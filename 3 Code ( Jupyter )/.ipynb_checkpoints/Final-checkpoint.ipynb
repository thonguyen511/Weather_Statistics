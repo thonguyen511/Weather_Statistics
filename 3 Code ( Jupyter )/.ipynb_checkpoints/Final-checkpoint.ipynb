{
 "cells": [
  {
   "cell_type": "markdown",
   "id": "b8fd6688",
   "metadata": {},
   "source": [
    "### import các thư viện cần xài"
   ]
  },
  {
   "cell_type": "code",
   "execution_count": 1,
   "id": "ef7c66db",
   "metadata": {},
   "outputs": [],
   "source": [
    "import requests, json\n",
    "import pandas as pd\n",
    "import numpy as np\n",
    "import time\n",
    "import matplotlib.pyplot as plt\n",
    "import seaborn as sns\n",
    "import plotly.express as px"
   ]
  },
  {
   "cell_type": "markdown",
   "id": "2034c863",
   "metadata": {},
   "source": [
    "### Lấy dữ liệu từ api"
   ]
  },
  {
   "cell_type": "code",
   "execution_count": 2,
   "id": "7bb05d56",
   "metadata": {},
   "outputs": [
    {
     "ename": "ValueError",
     "evalue": "Expected object or value",
     "output_type": "error",
     "traceback": [
      "\u001b[1;31m---------------------------------------------------------------------------\u001b[0m",
      "\u001b[1;31mValueError\u001b[0m                                Traceback (most recent call last)",
      "\u001b[1;32m~\\AppData\\Local\\Temp\\ipykernel_27376\\58766570.py\u001b[0m in \u001b[0;36m<module>\u001b[1;34m\u001b[0m\n\u001b[1;32m----> 1\u001b[1;33m \u001b[0mcity\u001b[0m \u001b[1;33m=\u001b[0m \u001b[0mpd\u001b[0m\u001b[1;33m.\u001b[0m\u001b[0mread_json\u001b[0m\u001b[1;33m(\u001b[0m\u001b[1;34m\"city_list.json\"\u001b[0m\u001b[1;33m)\u001b[0m\u001b[1;33m\u001b[0m\u001b[1;33m\u001b[0m\u001b[0m\n\u001b[0m\u001b[0;32m      2\u001b[0m \u001b[0mcity\u001b[0m\u001b[1;33m.\u001b[0m\u001b[0msort_values\u001b[0m\u001b[1;33m(\u001b[0m\u001b[1;34m'country'\u001b[0m\u001b[1;33m)\u001b[0m\u001b[1;33m\u001b[0m\u001b[1;33m\u001b[0m\u001b[0m\n",
      "\u001b[1;32mC:\\Anaconda\\lib\\site-packages\\pandas\\util\\_decorators.py\u001b[0m in \u001b[0;36mwrapper\u001b[1;34m(*args, **kwargs)\u001b[0m\n\u001b[0;32m    205\u001b[0m                 \u001b[1;32melse\u001b[0m\u001b[1;33m:\u001b[0m\u001b[1;33m\u001b[0m\u001b[1;33m\u001b[0m\u001b[0m\n\u001b[0;32m    206\u001b[0m                     \u001b[0mkwargs\u001b[0m\u001b[1;33m[\u001b[0m\u001b[0mnew_arg_name\u001b[0m\u001b[1;33m]\u001b[0m \u001b[1;33m=\u001b[0m \u001b[0mnew_arg_value\u001b[0m\u001b[1;33m\u001b[0m\u001b[1;33m\u001b[0m\u001b[0m\n\u001b[1;32m--> 207\u001b[1;33m             \u001b[1;32mreturn\u001b[0m \u001b[0mfunc\u001b[0m\u001b[1;33m(\u001b[0m\u001b[1;33m*\u001b[0m\u001b[0margs\u001b[0m\u001b[1;33m,\u001b[0m \u001b[1;33m**\u001b[0m\u001b[0mkwargs\u001b[0m\u001b[1;33m)\u001b[0m\u001b[1;33m\u001b[0m\u001b[1;33m\u001b[0m\u001b[0m\n\u001b[0m\u001b[0;32m    208\u001b[0m \u001b[1;33m\u001b[0m\u001b[0m\n\u001b[0;32m    209\u001b[0m         \u001b[1;32mreturn\u001b[0m \u001b[0mcast\u001b[0m\u001b[1;33m(\u001b[0m\u001b[0mF\u001b[0m\u001b[1;33m,\u001b[0m \u001b[0mwrapper\u001b[0m\u001b[1;33m)\u001b[0m\u001b[1;33m\u001b[0m\u001b[1;33m\u001b[0m\u001b[0m\n",
      "\u001b[1;32mC:\\Anaconda\\lib\\site-packages\\pandas\\util\\_decorators.py\u001b[0m in \u001b[0;36mwrapper\u001b[1;34m(*args, **kwargs)\u001b[0m\n\u001b[0;32m    309\u001b[0m                     \u001b[0mstacklevel\u001b[0m\u001b[1;33m=\u001b[0m\u001b[0mstacklevel\u001b[0m\u001b[1;33m,\u001b[0m\u001b[1;33m\u001b[0m\u001b[1;33m\u001b[0m\u001b[0m\n\u001b[0;32m    310\u001b[0m                 )\n\u001b[1;32m--> 311\u001b[1;33m             \u001b[1;32mreturn\u001b[0m \u001b[0mfunc\u001b[0m\u001b[1;33m(\u001b[0m\u001b[1;33m*\u001b[0m\u001b[0margs\u001b[0m\u001b[1;33m,\u001b[0m \u001b[1;33m**\u001b[0m\u001b[0mkwargs\u001b[0m\u001b[1;33m)\u001b[0m\u001b[1;33m\u001b[0m\u001b[1;33m\u001b[0m\u001b[0m\n\u001b[0m\u001b[0;32m    312\u001b[0m \u001b[1;33m\u001b[0m\u001b[0m\n\u001b[0;32m    313\u001b[0m         \u001b[1;32mreturn\u001b[0m \u001b[0mwrapper\u001b[0m\u001b[1;33m\u001b[0m\u001b[1;33m\u001b[0m\u001b[0m\n",
      "\u001b[1;32mC:\\Anaconda\\lib\\site-packages\\pandas\\io\\json\\_json.py\u001b[0m in \u001b[0;36mread_json\u001b[1;34m(path_or_buf, orient, typ, dtype, convert_axes, convert_dates, keep_default_dates, numpy, precise_float, date_unit, encoding, encoding_errors, lines, chunksize, compression, nrows, storage_options)\u001b[0m\n\u001b[0;32m    610\u001b[0m \u001b[1;33m\u001b[0m\u001b[0m\n\u001b[0;32m    611\u001b[0m     \u001b[1;32mwith\u001b[0m \u001b[0mjson_reader\u001b[0m\u001b[1;33m:\u001b[0m\u001b[1;33m\u001b[0m\u001b[1;33m\u001b[0m\u001b[0m\n\u001b[1;32m--> 612\u001b[1;33m         \u001b[1;32mreturn\u001b[0m \u001b[0mjson_reader\u001b[0m\u001b[1;33m.\u001b[0m\u001b[0mread\u001b[0m\u001b[1;33m(\u001b[0m\u001b[1;33m)\u001b[0m\u001b[1;33m\u001b[0m\u001b[1;33m\u001b[0m\u001b[0m\n\u001b[0m\u001b[0;32m    613\u001b[0m \u001b[1;33m\u001b[0m\u001b[0m\n\u001b[0;32m    614\u001b[0m \u001b[1;33m\u001b[0m\u001b[0m\n",
      "\u001b[1;32mC:\\Anaconda\\lib\\site-packages\\pandas\\io\\json\\_json.py\u001b[0m in \u001b[0;36mread\u001b[1;34m(self)\u001b[0m\n\u001b[0;32m    744\u001b[0m                 \u001b[0mobj\u001b[0m \u001b[1;33m=\u001b[0m \u001b[0mself\u001b[0m\u001b[1;33m.\u001b[0m\u001b[0m_get_object_parser\u001b[0m\u001b[1;33m(\u001b[0m\u001b[0mself\u001b[0m\u001b[1;33m.\u001b[0m\u001b[0m_combine_lines\u001b[0m\u001b[1;33m(\u001b[0m\u001b[0mdata_lines\u001b[0m\u001b[1;33m)\u001b[0m\u001b[1;33m)\u001b[0m\u001b[1;33m\u001b[0m\u001b[1;33m\u001b[0m\u001b[0m\n\u001b[0;32m    745\u001b[0m         \u001b[1;32melse\u001b[0m\u001b[1;33m:\u001b[0m\u001b[1;33m\u001b[0m\u001b[1;33m\u001b[0m\u001b[0m\n\u001b[1;32m--> 746\u001b[1;33m             \u001b[0mobj\u001b[0m \u001b[1;33m=\u001b[0m \u001b[0mself\u001b[0m\u001b[1;33m.\u001b[0m\u001b[0m_get_object_parser\u001b[0m\u001b[1;33m(\u001b[0m\u001b[0mself\u001b[0m\u001b[1;33m.\u001b[0m\u001b[0mdata\u001b[0m\u001b[1;33m)\u001b[0m\u001b[1;33m\u001b[0m\u001b[1;33m\u001b[0m\u001b[0m\n\u001b[0m\u001b[0;32m    747\u001b[0m         \u001b[0mself\u001b[0m\u001b[1;33m.\u001b[0m\u001b[0mclose\u001b[0m\u001b[1;33m(\u001b[0m\u001b[1;33m)\u001b[0m\u001b[1;33m\u001b[0m\u001b[1;33m\u001b[0m\u001b[0m\n\u001b[0;32m    748\u001b[0m         \u001b[1;32mreturn\u001b[0m \u001b[0mobj\u001b[0m\u001b[1;33m\u001b[0m\u001b[1;33m\u001b[0m\u001b[0m\n",
      "\u001b[1;32mC:\\Anaconda\\lib\\site-packages\\pandas\\io\\json\\_json.py\u001b[0m in \u001b[0;36m_get_object_parser\u001b[1;34m(self, json)\u001b[0m\n\u001b[0;32m    766\u001b[0m         \u001b[0mobj\u001b[0m \u001b[1;33m=\u001b[0m \u001b[1;32mNone\u001b[0m\u001b[1;33m\u001b[0m\u001b[1;33m\u001b[0m\u001b[0m\n\u001b[0;32m    767\u001b[0m         \u001b[1;32mif\u001b[0m \u001b[0mtyp\u001b[0m \u001b[1;33m==\u001b[0m \u001b[1;34m\"frame\"\u001b[0m\u001b[1;33m:\u001b[0m\u001b[1;33m\u001b[0m\u001b[1;33m\u001b[0m\u001b[0m\n\u001b[1;32m--> 768\u001b[1;33m             \u001b[0mobj\u001b[0m \u001b[1;33m=\u001b[0m \u001b[0mFrameParser\u001b[0m\u001b[1;33m(\u001b[0m\u001b[0mjson\u001b[0m\u001b[1;33m,\u001b[0m \u001b[1;33m**\u001b[0m\u001b[0mkwargs\u001b[0m\u001b[1;33m)\u001b[0m\u001b[1;33m.\u001b[0m\u001b[0mparse\u001b[0m\u001b[1;33m(\u001b[0m\u001b[1;33m)\u001b[0m\u001b[1;33m\u001b[0m\u001b[1;33m\u001b[0m\u001b[0m\n\u001b[0m\u001b[0;32m    769\u001b[0m \u001b[1;33m\u001b[0m\u001b[0m\n\u001b[0;32m    770\u001b[0m         \u001b[1;32mif\u001b[0m \u001b[0mtyp\u001b[0m \u001b[1;33m==\u001b[0m \u001b[1;34m\"series\"\u001b[0m \u001b[1;32mor\u001b[0m \u001b[0mobj\u001b[0m \u001b[1;32mis\u001b[0m \u001b[1;32mNone\u001b[0m\u001b[1;33m:\u001b[0m\u001b[1;33m\u001b[0m\u001b[1;33m\u001b[0m\u001b[0m\n",
      "\u001b[1;32mC:\\Anaconda\\lib\\site-packages\\pandas\\io\\json\\_json.py\u001b[0m in \u001b[0;36mparse\u001b[1;34m(self)\u001b[0m\n\u001b[0;32m    878\u001b[0m             \u001b[0mself\u001b[0m\u001b[1;33m.\u001b[0m\u001b[0m_parse_numpy\u001b[0m\u001b[1;33m(\u001b[0m\u001b[1;33m)\u001b[0m\u001b[1;33m\u001b[0m\u001b[1;33m\u001b[0m\u001b[0m\n\u001b[0;32m    879\u001b[0m         \u001b[1;32melse\u001b[0m\u001b[1;33m:\u001b[0m\u001b[1;33m\u001b[0m\u001b[1;33m\u001b[0m\u001b[0m\n\u001b[1;32m--> 880\u001b[1;33m             \u001b[0mself\u001b[0m\u001b[1;33m.\u001b[0m\u001b[0m_parse_no_numpy\u001b[0m\u001b[1;33m(\u001b[0m\u001b[1;33m)\u001b[0m\u001b[1;33m\u001b[0m\u001b[1;33m\u001b[0m\u001b[0m\n\u001b[0m\u001b[0;32m    881\u001b[0m \u001b[1;33m\u001b[0m\u001b[0m\n\u001b[0;32m    882\u001b[0m         \u001b[1;32mif\u001b[0m \u001b[0mself\u001b[0m\u001b[1;33m.\u001b[0m\u001b[0mobj\u001b[0m \u001b[1;32mis\u001b[0m \u001b[1;32mNone\u001b[0m\u001b[1;33m:\u001b[0m\u001b[1;33m\u001b[0m\u001b[1;33m\u001b[0m\u001b[0m\n",
      "\u001b[1;32mC:\\Anaconda\\lib\\site-packages\\pandas\\io\\json\\_json.py\u001b[0m in \u001b[0;36m_parse_no_numpy\u001b[1;34m(self)\u001b[0m\n\u001b[0;32m   1131\u001b[0m         \u001b[1;32mif\u001b[0m \u001b[0morient\u001b[0m \u001b[1;33m==\u001b[0m \u001b[1;34m\"columns\"\u001b[0m\u001b[1;33m:\u001b[0m\u001b[1;33m\u001b[0m\u001b[1;33m\u001b[0m\u001b[0m\n\u001b[0;32m   1132\u001b[0m             self.obj = DataFrame(\n\u001b[1;32m-> 1133\u001b[1;33m                 \u001b[0mloads\u001b[0m\u001b[1;33m(\u001b[0m\u001b[0mjson\u001b[0m\u001b[1;33m,\u001b[0m \u001b[0mprecise_float\u001b[0m\u001b[1;33m=\u001b[0m\u001b[0mself\u001b[0m\u001b[1;33m.\u001b[0m\u001b[0mprecise_float\u001b[0m\u001b[1;33m)\u001b[0m\u001b[1;33m,\u001b[0m \u001b[0mdtype\u001b[0m\u001b[1;33m=\u001b[0m\u001b[1;32mNone\u001b[0m\u001b[1;33m\u001b[0m\u001b[1;33m\u001b[0m\u001b[0m\n\u001b[0m\u001b[0;32m   1134\u001b[0m             )\n\u001b[0;32m   1135\u001b[0m         \u001b[1;32melif\u001b[0m \u001b[0morient\u001b[0m \u001b[1;33m==\u001b[0m \u001b[1;34m\"split\"\u001b[0m\u001b[1;33m:\u001b[0m\u001b[1;33m\u001b[0m\u001b[1;33m\u001b[0m\u001b[0m\n",
      "\u001b[1;31mValueError\u001b[0m: Expected object or value"
     ]
    }
   ],
   "source": [
    "city = pd.read_json(\"city_list.json\")\n",
    "city.sort_values('country')"
   ]
  },
  {
   "cell_type": "code",
   "execution_count": null,
   "id": "33596604",
   "metadata": {
    "scrolled": true
   },
   "outputs": [],
   "source": [
    "#lấy realtime\n",
    "now = int(time.time())\n",
    "lw = now - 604800           #Thời gian tra cứu (tối đa 7 ngày) theo định dạng Unix timestamps\n",
    "\n",
    "cityid = 894239\n",
    "\"\"\"\n",
    "Có thể đổi city theo id trong file \"1 Datasets/city_list.json\"\n",
    "New York 5128581, London 5056033, Paris 6455259, \n",
    "HCM 1566083, Hanoi 1581129, Sa Pa 1568043, Da Lat 1584071, ...\n",
    "\"\"\"\n",
    "\n",
    "data = requests.get(\"https://history.openweathermap.org/data/2.5/history/city?id=\"+str(cityid)+\"&type=hour&start=\"+str(lw)+\"&end=\"+str(now)+\"&units=metric&appid=36de67b0831e2d23f5e496827c24592f\")\n",
    "data = json.loads(data.content)\n",
    "data"
   ]
  },
  {
   "cell_type": "code",
   "execution_count": null,
   "id": "1864b3fc",
   "metadata": {},
   "outputs": [],
   "source": [
    "data = data['list']\n",
    "with open(\"data.json\", \"w\") as outfile: # ghi lại dữ liệu thu được\n",
    "    json.dump(data, outfile)"
   ]
  },
  {
   "cell_type": "code",
   "execution_count": null,
   "id": "098db46a",
   "metadata": {
    "scrolled": false
   },
   "outputs": [],
   "source": [
    "df = pd.read_json(\"data.json\")\n",
    "df = df.explode('weather')\n",
    "df"
   ]
  },
  {
   "cell_type": "code",
   "execution_count": null,
   "id": "f1ce6ab1",
   "metadata": {
    "scrolled": false
   },
   "outputs": [],
   "source": [
    "main = pd.json_normalize(df['main'], max_level =1)\n",
    "main"
   ]
  },
  {
   "cell_type": "code",
   "execution_count": null,
   "id": "4f84e012",
   "metadata": {},
   "outputs": [],
   "source": [
    "wind = pd.json_normalize(df['wind'], max_level =1)\n",
    "clouds = pd.json_normalize(df['clouds'], max_level =1)\n",
    "weather = pd.json_normalize(df['weather'], max_level =1)"
   ]
  },
  {
   "cell_type": "code",
   "execution_count": null,
   "id": "f50d393d",
   "metadata": {},
   "outputs": [],
   "source": [
    "df.drop(columns = ['main','wind','clouds','weather',],inplace = True)\n",
    "\n",
    "df['dt'] = pd.to_datetime(df['dt'], unit='s')\n",
    "df = df.set_index('dt')\n",
    "df = df.tz_localize('UTC')\n",
    "df = df.tz_convert('Asia/Ho_Chi_Minh')\n",
    "df.reset_index(inplace = True)\n",
    "df['dt']=df['dt'].dt.tz_localize(None)\n",
    "df"
   ]
  },
  {
   "cell_type": "code",
   "execution_count": null,
   "id": "294f8bf8",
   "metadata": {
    "scrolled": false
   },
   "outputs": [],
   "source": [
    "df = pd.concat([df, main, wind, clouds, weather], axis =1 )\n",
    "df"
   ]
  },
  {
   "cell_type": "code",
   "execution_count": null,
   "id": "89eb9a38",
   "metadata": {},
   "outputs": [],
   "source": [
    "df.isnull().any()"
   ]
  },
  {
   "cell_type": "code",
   "execution_count": null,
   "id": "04705fdb",
   "metadata": {
    "scrolled": false
   },
   "outputs": [],
   "source": [
    "df = df.set_index('dt')\n",
    "if 'rain' in df.columns:\n",
    "    df.drop(columns = 'rain',inplace = True)\n",
    "if 'snow' in df.columns:\n",
    "    df.drop(columns = 'snow',inplace = True)\n",
    "df.drop(columns = ['temp_min','temp_max','gust','id','icon'],inplace = True)\n",
    "df"
   ]
  },
  {
   "cell_type": "code",
   "execution_count": null,
   "id": "0e395174",
   "metadata": {},
   "outputs": [],
   "source": [
    "df.rename(columns={\"temp\":\"Temperature (°C)\", \n",
    "                   \"feels_like\":\"Feels Like (°C)\", \n",
    "                   \"pressure\":\"Atmospheric pressure (hPa)\", \n",
    "                   \"humidity\":\"Humidity (%)\", \n",
    "                   \"speed\":\"Wind speed (meter/sec)\", \n",
    "                   \"deg\":\"Wind direction (°)\",\n",
    "                   \"all\":\"Cloudiness (%)\", \n",
    "                   \"main\":\"Weather parameters\", \n",
    "                   \"description\":\"Weather descriptions\"},\n",
    "          inplace = True)\n",
    "df.index.name = \"Time\"\n",
    "df"
   ]
  },
  {
   "cell_type": "code",
   "execution_count": null,
   "id": "6a3bf3aa",
   "metadata": {},
   "outputs": [],
   "source": [
    "df.info()"
   ]
  },
  {
   "cell_type": "code",
   "execution_count": null,
   "id": "73fb7863",
   "metadata": {},
   "outputs": [],
   "source": [
    "df.shape"
   ]
  },
  {
   "cell_type": "code",
   "execution_count": null,
   "id": "0e6592ea",
   "metadata": {},
   "outputs": [],
   "source": [
    "df.describe(include=[np.number])"
   ]
  },
  {
   "cell_type": "code",
   "execution_count": null,
   "id": "96d684e4",
   "metadata": {
    "scrolled": true
   },
   "outputs": [],
   "source": [
    "df.describe(include=[object])  "
   ]
  },
  {
   "cell_type": "code",
   "execution_count": null,
   "id": "2a7ea5dd",
   "metadata": {
    "scrolled": false
   },
   "outputs": [],
   "source": [
    "Correlation = df.corr()\n",
    "Correlation"
   ]
  },
  {
   "cell_type": "code",
   "execution_count": null,
   "id": "0561bbcc",
   "metadata": {
    "scrolled": false
   },
   "outputs": [],
   "source": [
    "Cols_num_list = Cols_category_list = df.select_dtypes(include = [np.number]).columns.to_list()\n",
    "fig = plt.subplots(figsize=(15,15))\n",
    "sp = 1\n",
    "for i in Cols_num_list:\n",
    "    sns.set(style=\"darkgrid\")\n",
    "    plt.subplot(3,3,sp)\n",
    "    sns.boxplot(data = df,color = 'lightskyblue', x = i)\n",
    "    sp = sp + 1\n",
    "    \n",
    "plt.show()"
   ]
  },
  {
   "cell_type": "code",
   "execution_count": null,
   "id": "0c951178",
   "metadata": {
    "scrolled": false
   },
   "outputs": [],
   "source": [
    "Correlation = df.corr()\n",
    "Correlation"
   ]
  },
  {
   "cell_type": "code",
   "execution_count": null,
   "id": "72fe859b",
   "metadata": {
    "scrolled": false
   },
   "outputs": [],
   "source": [
    "plt.figure(figsize = (8,4))\n",
    "sns.heatmap(Correlation,mask = Correlation < -1,cmap=\"PuBuGn_r\",annot=True, linewidths=0)\n",
    "plt.show()"
   ]
  },
  {
   "cell_type": "code",
   "execution_count": null,
   "id": "1fde3777",
   "metadata": {
    "scrolled": false
   },
   "outputs": [],
   "source": [
    "fig, axs = plt.subplots(figsize=(15,8))\n",
    "axs.set_facecolor(\"whitesmoke\")\n",
    "area =  Correlation['Feels Like (°C)']['Temperature (°C)']\n",
    "sns.scatterplot( data=area, y=df['Temperature (°C)'], x=df['Feels Like (°C)'],legend=\"full\")\n",
    "\n",
    "plt.show()"
   ]
  },
  {
   "cell_type": "code",
   "execution_count": null,
   "id": "9c857fd5",
   "metadata": {},
   "outputs": [],
   "source": [
    "fig, axs = plt.subplots(figsize=(15,8))\n",
    "axs.set_facecolor(\"whitesmoke\")\n",
    "area =  Correlation['Feels Like (°C)']['Humidity (%)']\n",
    "sns.scatterplot( data=area, y=df['Temperature (°C)'], x=df['Humidity (%)'],legend=\"full\")\n",
    "\n",
    "plt.show()"
   ]
  },
  {
   "cell_type": "code",
   "execution_count": null,
   "id": "dd8c6d50",
   "metadata": {},
   "outputs": [],
   "source": [
    "fig, ax2 = plt.subplots(figsize=(20,10))\n",
    "plt.title('Temperature, Feeling and Humidity for 1 Week', size = 30)\n",
    "sns.set(style=\"white\")\n",
    "ax2.set_facecolor(\"whitesmoke\")\n",
    "\n",
    "ax2.bar(df.index, df['Humidity (%)'], width=0.035, alpha=1,color = 'lightskyblue',label='Humidity (%)')\n",
    "ax2.grid(False) # turn off grid #2\n",
    "ax2.set_ylabel('%',size = 20)\n",
    "ax2.set_xlabel('Days', size = 20)\n",
    "ax2.legend(['Humidity'], loc=\"upper left\", fontsize = 'large')\n",
    "\n",
    "ax1 = ax2.twinx()\n",
    "\n",
    "ax1.plot(df.index, df['Temperature (°C)'], alpha=1,color = 'chocolate',label='Temperature (°C)')\n",
    "ax1.plot(df.index, df['Feels Like (°C)'],alpha=1,color = 'chocolate',linestyle = '-.',label='Feels Like (°C)')\n",
    "ax1.set_ylabel('°C', size = 20)\n",
    "ax1.set_xlabel('Days', size = 20)\n",
    "ax1.legend(['Temperature','Feels Like'], loc=\"upper right\", fontsize = 'large')\n",
    "\n",
    "#specify axis colors\n",
    "ax1.tick_params(axis='y', colors='#e19d72')\n",
    "ax2.tick_params(axis='y', colors='#87cefa')\n",
    "\n",
    "plt.show()"
   ]
  },
  {
   "cell_type": "code",
   "execution_count": null,
   "id": "80a5e6dd",
   "metadata": {},
   "outputs": [],
   "source": [
    "df['Temperature (°C)'].sort_values().head()"
   ]
  },
  {
   "cell_type": "code",
   "execution_count": null,
   "id": "0ea06e48",
   "metadata": {},
   "outputs": [],
   "source": [
    "df['Temperature (°C)'].sort_values().tail()"
   ]
  },
  {
   "cell_type": "code",
   "execution_count": null,
   "id": "8ca3a156",
   "metadata": {},
   "outputs": [],
   "source": [
    "df['Humidity (%)'].sort_values().head()"
   ]
  },
  {
   "cell_type": "code",
   "execution_count": null,
   "id": "7b0a6997",
   "metadata": {},
   "outputs": [],
   "source": [
    "df['Humidity (%)'].sort_values().tail()"
   ]
  },
  {
   "cell_type": "code",
   "execution_count": null,
   "id": "f79cf557",
   "metadata": {
    "scrolled": false
   },
   "outputs": [],
   "source": [
    "fig = px.line(df, x=df.index, y=df['Atmospheric pressure (hPa)'])\n",
    "fig.show()"
   ]
  },
  {
   "cell_type": "code",
   "execution_count": null,
   "id": "5e6af499",
   "metadata": {},
   "outputs": [],
   "source": [
    "fig = px.line(df, x=df.index, y=df['Cloudiness (%)'])\n",
    "fig.show()"
   ]
  },
  {
   "cell_type": "code",
   "execution_count": null,
   "id": "8ee2fcc0",
   "metadata": {
    "scrolled": true
   },
   "outputs": [],
   "source": [
    "df['Weather parameters'].value_counts()"
   ]
  },
  {
   "cell_type": "code",
   "execution_count": null,
   "id": "58a6556d",
   "metadata": {},
   "outputs": [],
   "source": [
    "df['Weather descriptions'].value_counts()"
   ]
  },
  {
   "cell_type": "code",
   "execution_count": null,
   "id": "73a04dde",
   "metadata": {
    "scrolled": true
   },
   "outputs": [],
   "source": [
    "weather_descriptions = pd.DataFrame(df['Weather descriptions'].value_counts())\n",
    "weather_descriptions.rename(columns={\"Weather descriptions\":\"Counts\"},inplace = True)\n",
    "weather_descriptions.index.name='Weather descriptions'\n",
    "weather_descriptions['Precent'] = (weather_descriptions['Counts']/weather_descriptions['Counts'].sum())*100\n",
    "weather_descriptions"
   ]
  },
  {
   "cell_type": "code",
   "execution_count": null,
   "id": "29b32cf2",
   "metadata": {
    "scrolled": false
   },
   "outputs": [],
   "source": [
    "fig,ax = plt.subplots(1, figsize=(8,8))\n",
    "fig.subplots_adjust(wspace=0)\n",
    "colors = ['#bec5ef', '#5296ba', '#9a6f8b','#ba7a51',\n",
    "          '#a8d6bb','#e5ca7b','#8868c3','#738fad',\n",
    "          '#40cba1','#6e8484','#b09d73','#af71b0']\n",
    "wedges, *_  = ax.pie(weather_descriptions['Precent'], wedgeprops = { 'linewidth' : 1, 'edgecolor' : 'white' }, colors=colors, autopct='%1.1f%%')\n",
    "ax.legend(weather_descriptions.index, title=\"Precent\", loc=\"center left\", bbox_to_anchor=(1, 0, 0.5, 1))\n",
    "\n",
    "plt.show()"
   ]
  },
  {
   "cell_type": "code",
   "execution_count": null,
   "id": "d8ccc280",
   "metadata": {},
   "outputs": [],
   "source": [
    "figsize=(20,20)\n",
    "fig = px.scatter_polar(df, theta = df['Wind direction (°)'],r = df.index, \n",
    "                       title='Wind Scatter',color=\"Wind speed (meter/sec)\")\n",
    "fig.show()"
   ]
  },
  {
   "cell_type": "code",
   "execution_count": null,
   "id": "f0590607",
   "metadata": {},
   "outputs": [],
   "source": [
    "Wind_direction = pd.DataFrame(df['Wind direction (°)'].value_counts())\n",
    "Wind_direction.rename(columns={\"Wind direction (°)\":\"Counts\"},inplace = True)\n",
    "Wind_direction.index.name='Wind direction (°)'\n",
    "Wind_direction"
   ]
  },
  {
   "cell_type": "code",
   "execution_count": null,
   "id": "ab45d680",
   "metadata": {},
   "outputs": [],
   "source": [
    "fig = px.bar(Wind_direction, y = 'Counts', x = Wind_direction.index)\n",
    "fig.show()"
   ]
  },
  {
   "cell_type": "code",
   "execution_count": null,
   "id": "1d6fa41c",
   "metadata": {},
   "outputs": [],
   "source": []
  }
 ],
 "metadata": {
  "kernelspec": {
   "display_name": "Python 3 (ipykernel)",
   "language": "python",
   "name": "python3"
  },
  "language_info": {
   "codemirror_mode": {
    "name": "ipython",
    "version": 3
   },
   "file_extension": ".py",
   "mimetype": "text/x-python",
   "name": "python",
   "nbconvert_exporter": "python",
   "pygments_lexer": "ipython3",
   "version": "3.9.13"
  }
 },
 "nbformat": 4,
 "nbformat_minor": 5
}
